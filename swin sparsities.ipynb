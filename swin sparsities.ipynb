{
 "cells": [
  {
   "cell_type": "code",
   "execution_count": 1,
   "id": "07ef5878",
   "metadata": {},
   "outputs": [],
   "source": [
    "import os\n",
    "import torch\n",
    "import torchvision.transforms as transforms\n",
    "from torchvision.datasets import ImageFolder\n",
    "from torch.utils.data import DataLoader\n",
    "from tqdm import tqdm\n",
    "from collections import defaultdict"
   ]
  },
  {
   "cell_type": "code",
   "execution_count": 2,
   "id": "188a50ed",
   "metadata": {},
   "outputs": [],
   "source": [
    "threshold = 1e-3\n",
    "\n",
    "def compute_token_sparsity(token_activations, threshold=threshold):\n",
    "    \"\"\"Sparsity across tokens (spatial dimension), given [B, N, C]\"\"\"\n",
    "    sparsity_dict = {}\n",
    "    for name, act in token_activations.items():\n",
    "        if act is None or act.numel() == 0:\n",
    "            continue\n",
    "        sparse_ratio = (act.abs() < threshold).float().mean().item()\n",
    "        sparsity_dict[name] = sparse_ratio\n",
    "    return sparsity_dict\n",
    "\n",
    "def compute_feature_sparsity(channel_activations, threshold=threshold):\n",
    "    \"\"\"Sparsity across feature dimensions, using [B, C]\"\"\"\n",
    "    sparsity_dict = {}\n",
    "    for name, vec in channel_activations.items():\n",
    "        if vec is None or vec.numel() == 0:\n",
    "            continue\n",
    "        sparse_ratio = (vec.abs() < threshold).float().mean().item()\n",
    "        sparsity_dict[name] = sparse_ratio\n",
    "    return sparsity_dict\n"
   ]
  },
  {
   "cell_type": "code",
   "execution_count": 3,
   "id": "d8e76166",
   "metadata": {},
   "outputs": [
    {
     "data": {
      "text/plain": [
       "device(type='cuda')"
      ]
     },
     "execution_count": 3,
     "metadata": {},
     "output_type": "execute_result"
    }
   ],
   "source": [
    "device = torch.device(\"cuda\" if torch.cuda.is_available() else \"cpu\")\n",
    "device"
   ]
  },
  {
   "cell_type": "code",
   "execution_count": 4,
   "id": "d4d7e5ca",
   "metadata": {},
   "outputs": [
    {
     "name": "stdout",
     "output_type": "stream",
     "text": [
      "70 1000\n"
     ]
    }
   ],
   "source": [
    "dataset_path = \"../aircraft_dataset\"\n",
    "batch_size = 16\n",
    "\n",
    "transform = transforms.Compose([\n",
    "    transforms.Resize((224, 224)),\n",
    "    transforms.ToTensor(),\n",
    "    transforms.Normalize(mean=[0.485, 0.456, 0.406],\n",
    "                         std=[0.229, 0.224, 0.225])\n",
    "])\n",
    "\n",
    "test_path = os.path.join(dataset_path, f\"test\")\n",
    "test_ds = ImageFolder(root=test_path, transform=transform)\n",
    "test_loader = DataLoader(test_ds, batch_size=batch_size, shuffle=False)\n",
    "\n",
    "num_classes = len(test_ds.classes)\n",
    "\n",
    "print(num_classes, len(test_ds))"
   ]
  },
  {
   "cell_type": "code",
   "execution_count": 5,
   "id": "76378cf7",
   "metadata": {},
   "outputs": [
    {
     "name": "stderr",
     "output_type": "stream",
     "text": [
      "d:\\conda_envs\\fyp\\Lib\\site-packages\\tqdm\\auto.py:21: TqdmWarning: IProgress not found. Please update jupyter and ipywidgets. See https://ipywidgets.readthedocs.io/en/stable/user_install.html\n",
      "  from .autonotebook import tqdm as notebook_tqdm\n"
     ]
    },
    {
     "name": "stdout",
     "output_type": "stream",
     "text": [
      "SwinTiny_InternalRepresentation\n",
      "model parameters: 27573184\n"
     ]
    }
   ],
   "source": [
    "from instrumented_models.swin_instrumented import SwinTiny_InternalRepresentation\n",
    "\n",
    "model = SwinTiny_InternalRepresentation(num_classes=num_classes, pretrained=False)\n",
    "\n",
    "weights = torch.load(\"swin_epoch_25.pth\", map_location=device)\n",
    "weights = {\"model.\" + k: v for k, v in weights.items()}\n",
    "model.load_state_dict(weights)\n",
    "\n",
    "model.to(device)\n",
    "model.eval()\n",
    "\n",
    "print(model.__class__.__name__)\n",
    "\n",
    "num_params = sum(p.numel() for p in model.parameters())\n",
    "print(f\"model parameters: {num_params}\")"
   ]
  },
  {
   "cell_type": "code",
   "execution_count": 6,
   "id": "e031cfdf",
   "metadata": {},
   "outputs": [
    {
     "name": "stderr",
     "output_type": "stream",
     "text": [
      "100%|██████████| 63/63 [00:49<00:00,  1.26it/s]"
     ]
    },
    {
     "name": "stdout",
     "output_type": "stream",
     "text": [
      "\n",
      "Token (Spatial) Sparsity:\n",
      "stage_0_block_0:\t0.0028\n",
      "stage_0_block_1:\t0.0036\n",
      "stage_1_block_0:\t0.0026\n",
      "stage_1_block_1:\t0.0026\n",
      "stage_2_block_0:\t0.0031\n",
      "stage_2_block_1:\t0.0028\n",
      "stage_2_block_2:\t0.0021\n",
      "stage_2_block_3:\t0.0020\n",
      "stage_2_block_4:\t0.0019\n",
      "stage_2_block_5:\t0.0022\n",
      "stage_3_block_0:\t0.0019\n",
      "stage_3_block_1:\t0.0004\n",
      "\n",
      "Feature (Channel-like) Sparsity:\n",
      "stage_0_block_0:\t0.0049\n",
      "stage_0_block_1:\t0.0060\n",
      "stage_1_block_0:\t0.0046\n",
      "stage_1_block_1:\t0.0044\n",
      "stage_2_block_0:\t0.0050\n",
      "stage_2_block_1:\t0.0048\n",
      "stage_2_block_2:\t0.0035\n",
      "stage_2_block_3:\t0.0031\n",
      "stage_2_block_4:\t0.0027\n",
      "stage_2_block_5:\t0.0029\n",
      "stage_3_block_0:\t0.0022\n",
      "stage_3_block_1:\t0.0005\n"
     ]
    },
    {
     "name": "stderr",
     "output_type": "stream",
     "text": [
      "\n"
     ]
    }
   ],
   "source": [
    "token_sparsity_acc = defaultdict(list)\n",
    "feature_sparsity_acc = defaultdict(list)\n",
    "\n",
    "with torch.no_grad():\n",
    "    for images, labels in tqdm(test_loader):\n",
    "        images = images.to(device)\n",
    "\n",
    "        model(images)\n",
    "\n",
    "        token_acts = model.get_token_activations()\n",
    "        channel_acts = model.get_channel_activations()\n",
    "\n",
    "        # Sparsity computation\n",
    "        token_sparse = compute_token_sparsity(token_acts)\n",
    "        feat_sparse = compute_feature_sparsity(channel_acts)\n",
    "\n",
    "        for name, val in token_sparse.items():\n",
    "            token_sparsity_acc[name].append(val)\n",
    "        for name, val in feat_sparse.items():\n",
    "            feature_sparsity_acc[name].append(val)\n",
    "\n",
    "# Averaging results\n",
    "token_sparsity = {name: sum(vals) / len(vals) for name, vals in token_sparsity_acc.items()}\n",
    "feature_sparsity = {name: sum(vals) / len(vals) for name, vals in feature_sparsity_acc.items()}\n",
    "\n",
    "print(\"\\nToken (Spatial) Sparsity:\")\n",
    "for k, v in token_sparsity.items():\n",
    "    print(f\"{k}:\\t{v:.4f}\")\n",
    "\n",
    "print(\"\\nFeature (Channel-like) Sparsity:\")\n",
    "for k, v in feature_sparsity.items():\n",
    "    print(f\"{k}:\\t{v:.4f}\")\n"
   ]
  },
  {
   "cell_type": "code",
   "execution_count": null,
   "id": "3e9322e2",
   "metadata": {},
   "outputs": [],
   "source": []
  }
 ],
 "metadata": {
  "kernelspec": {
   "display_name": "fyp",
   "language": "python",
   "name": "python3"
  },
  "language_info": {
   "codemirror_mode": {
    "name": "ipython",
    "version": 3
   },
   "file_extension": ".py",
   "mimetype": "text/x-python",
   "name": "python",
   "nbconvert_exporter": "python",
   "pygments_lexer": "ipython3",
   "version": "3.12.9"
  }
 },
 "nbformat": 4,
 "nbformat_minor": 5
}
