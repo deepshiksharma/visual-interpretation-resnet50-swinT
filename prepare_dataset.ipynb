{
 "cells": [
  {
   "cell_type": "code",
   "execution_count": 26,
   "id": "db073161",
   "metadata": {},
   "outputs": [],
   "source": [
    "import os, shutil\n",
    "import cv2\n",
    "import random\n",
    "from collections import defaultdict"
   ]
  },
  {
   "cell_type": "code",
   "execution_count": 2,
   "id": "354ef8f9",
   "metadata": {},
   "outputs": [],
   "source": [
    "dataset_path = \"fgvc-aircraft-2013b/data\""
   ]
  },
  {
   "cell_type": "markdown",
   "id": "e6aa0f90",
   "metadata": {},
   "source": [
    "Crop images"
   ]
  },
  {
   "cell_type": "code",
   "execution_count": 3,
   "id": "6d605e8e",
   "metadata": {},
   "outputs": [],
   "source": [
    "with open(f\"{dataset_path}/images_box.txt\", \"r\") as file:\n",
    "    images_box = [line.strip() for line in file.readlines()]"
   ]
  },
  {
   "cell_type": "code",
   "execution_count": 6,
   "id": "8046fb89",
   "metadata": {},
   "outputs": [],
   "source": [
    "cropped_img_dir = f\"{dataset_path}/images_cropped\"\n",
    "os.mkdir(cropped_img_dir)\n",
    "\n",
    "for img in images_box:\n",
    "    img_name, xmin, ymin, xmax, ymax = img.split()\n",
    "    \n",
    "    img_name += \".jpg\"\n",
    "    xmin, ymin, xmax, ymax = int(xmin), int(ymin), int(xmax), int(ymax)\n",
    "\n",
    "    image = cv2.imread(f\"{dataset_path}/images/{img_name}\")\n",
    "    if image is None:\n",
    "        raise FileNotFoundError(f\"image {img_name} not found\")\n",
    "    \n",
    "    image_crop = image[ymin:ymax, xmin:xmax]\n",
    "\n",
    "    cv2.imwrite(f\"{cropped_img_dir}/{img_name}\", image_crop)\n"
   ]
  },
  {
   "cell_type": "markdown",
   "id": "4900e7eb",
   "metadata": {},
   "source": [
    "Number of classes and samples in each class"
   ]
  },
  {
   "cell_type": "code",
   "execution_count": 8,
   "id": "4e4772cc",
   "metadata": {},
   "outputs": [
    {
     "data": {
      "text/plain": [
       "70"
      ]
     },
     "execution_count": 8,
     "metadata": {},
     "output_type": "execute_result"
    }
   ],
   "source": [
    "with open(f\"{dataset_path}/families.txt\", \"r\") as file:\n",
    "    families = [line.strip() for line in file.readlines()]\n",
    "\n",
    "families = set(families)\n",
    "len(families)"
   ]
  },
  {
   "cell_type": "code",
   "execution_count": 14,
   "id": "98c88a75",
   "metadata": {},
   "outputs": [],
   "source": [
    "SAMPLE_COUNT = defaultdict(int)\n",
    "\n",
    "with open(f\"{dataset_path}/images_family_train.txt\", \"r\") as file:\n",
    "    train_samples = [line.strip() for line in file.readlines()]\n",
    "\n",
    "for sample in train_samples:\n",
    "    img_name, fam_name = sample.split(maxsplit=1)\n",
    "    SAMPLE_COUNT[fam_name] += 1\n"
   ]
  },
  {
   "cell_type": "code",
   "execution_count": 18,
   "id": "9f298eb8",
   "metadata": {},
   "outputs": [],
   "source": [
    "with open(f\"{dataset_path}/images_family_val.txt\", \"r\") as file:\n",
    "    val_samples = [line.strip() for line in file.readlines()]\n",
    "\n",
    "for sample in val_samples:\n",
    "    img_name, fam_name = sample.split(maxsplit=1)\n",
    "    SAMPLE_COUNT[fam_name] += 1\n",
    "\n",
    "\n",
    "with open(f\"{dataset_path}/images_family_test.txt\", \"r\") as file:\n",
    "    test_samples = [line.strip() for line in file.readlines()]\n",
    "\n",
    "for sample in test_samples:\n",
    "    img_name, fam_name = sample.split(maxsplit=1)\n",
    "    SAMPLE_COUNT[fam_name] += 1\n"
   ]
  },
  {
   "cell_type": "code",
   "execution_count": 23,
   "id": "44302b09",
   "metadata": {},
   "outputs": [
    {
     "data": {
      "text/plain": [
       "defaultdict(int,\n",
       "            {'Boeing 707': 100,\n",
       "             'Boeing 727': 100,\n",
       "             'Boeing 737': 800,\n",
       "             'Boeing 747': 400,\n",
       "             'Boeing 757': 200,\n",
       "             'Boeing 767': 300,\n",
       "             'Boeing 777': 200,\n",
       "             'A300': 100,\n",
       "             'A310': 100,\n",
       "             'A320': 400,\n",
       "             'A330': 200,\n",
       "             'A340': 400,\n",
       "             'A380': 100,\n",
       "             'ATR-42': 100,\n",
       "             'ATR-72': 100,\n",
       "             'An-12': 100,\n",
       "             'BAE 146': 200,\n",
       "             'BAE-125': 100,\n",
       "             'Beechcraft 1900': 100,\n",
       "             'Boeing 717': 100,\n",
       "             'C-130': 100,\n",
       "             'C-47': 100,\n",
       "             'CRJ-200': 100,\n",
       "             'CRJ-700': 200,\n",
       "             'Cessna 172': 100,\n",
       "             'Cessna 208': 100,\n",
       "             'Cessna Citation': 200,\n",
       "             'Challenger 600': 100,\n",
       "             'DC-10': 100,\n",
       "             'DC-3': 100,\n",
       "             'DC-6': 100,\n",
       "             'DC-8': 100,\n",
       "             'DC-9': 100,\n",
       "             'DH-82': 100,\n",
       "             'DHC-1': 100,\n",
       "             'DHC-6': 100,\n",
       "             'Dash 8': 200,\n",
       "             'DR-400': 100,\n",
       "             'Dornier 328': 100,\n",
       "             'Embraer E-Jet': 300,\n",
       "             'EMB-120': 100,\n",
       "             'Embraer ERJ 145': 200,\n",
       "             'Embraer Legacy 600': 100,\n",
       "             'Eurofighter Typhoon': 100,\n",
       "             'F-16': 100,\n",
       "             'F/A-18': 100,\n",
       "             'Falcon 2000': 100,\n",
       "             'Falcon 900': 100,\n",
       "             'Fokker 100': 100,\n",
       "             'Fokker 50': 100,\n",
       "             'Fokker 70': 100,\n",
       "             'Global Express': 100,\n",
       "             'Gulfstream': 200,\n",
       "             'Hawk T1': 100,\n",
       "             'Il-76': 100,\n",
       "             'L-1011': 100,\n",
       "             'MD-11': 100,\n",
       "             'MD-80': 200,\n",
       "             'MD-90': 100,\n",
       "             'Metroliner': 100,\n",
       "             'King Air': 100,\n",
       "             'PA-28': 100,\n",
       "             'SR-20': 100,\n",
       "             'Saab 2000': 100,\n",
       "             'Saab 340': 100,\n",
       "             'Spitfire': 100,\n",
       "             'Tornado': 100,\n",
       "             'Tu-134': 100,\n",
       "             'Tu-154': 100,\n",
       "             'Yak-42': 100})"
      ]
     },
     "execution_count": 23,
     "metadata": {},
     "output_type": "execute_result"
    }
   ],
   "source": [
    "SAMPLE_COUNT"
   ]
  },
  {
   "cell_type": "markdown",
   "id": "351d75f5",
   "metadata": {},
   "source": [
    "Create lists to split the dataset (80-10-10 evenly across classes)"
   ]
  },
  {
   "cell_type": "code",
   "execution_count": 24,
   "id": "c4fe211a",
   "metadata": {},
   "outputs": [],
   "source": [
    "AIRCRAFT = defaultdict(list)\n",
    "\n",
    "filelists = [\"images_family_train.txt\", \"images_family_val.txt\", \"images_family_test.txt\"]\n",
    "\n",
    "for flist in filelists:\n",
    "    with open(f\"{dataset_path}/{flist}\", \"r\") as file:\n",
    "        samples = [line.strip() for line in file.readlines()]\n",
    "\n",
    "    for s in samples:\n",
    "        img_name, fam_name = s.split(maxsplit=1)\n",
    "        img_name += \".jpg\"\n",
    "\n",
    "        AIRCRAFT[fam_name].append(img_name)\n"
   ]
  },
  {
   "cell_type": "code",
   "execution_count": 30,
   "id": "75dd181f",
   "metadata": {},
   "outputs": [
    {
     "name": "stdout",
     "output_type": "stream",
     "text": [
      "8000\n",
      "1000\n",
      "1000\n"
     ]
    }
   ],
   "source": [
    "train_filelist, val_filelist, test_filelist = list(), list(), list()\n",
    "\n",
    "for fam_name, img_list in AIRCRAFT.items():\n",
    "    random.shuffle(img_list)\n",
    "\n",
    "    n = len(img_list)\n",
    "    n_train = int(0.8 * n)\n",
    "    n_val = int(0.1 * n)\n",
    "    n_test = n - n_train - n_val\n",
    "\n",
    "    train_filelist.extend((img, fam_name) for img in img_list[:n_train])\n",
    "    val_filelist.extend((img, fam_name) for img in img_list[n_train:n_train + n_val])\n",
    "    test_filelist.extend((img, fam_name) for img in img_list[n_train + n_val:])\n",
    "\n",
    "print(len(train_filelist))\n",
    "print(len(val_filelist))\n",
    "print(len(test_filelist))\n",
    "\n",
    "def save_filelist(filename, split):\n",
    "    with open(filename, \"w\") as f:\n",
    "        for img, fam in split:\n",
    "            f.write(f\"{img} {fam}\\n\")\n",
    "\n",
    "save_filelist(f\"{dataset_path}/train_filelist.txt\", train_filelist)\n",
    "save_filelist(f\"{dataset_path}/val_filelist.txt\", val_filelist)\n",
    "save_filelist(f\"{dataset_path}/test_filelist.txt\", test_filelist)\n"
   ]
  },
  {
   "cell_type": "markdown",
   "id": "3ff5557e",
   "metadata": {},
   "source": [
    "Training, validation, and test sets"
   ]
  },
  {
   "cell_type": "code",
   "execution_count": 31,
   "id": "1a93be4a",
   "metadata": {},
   "outputs": [],
   "source": [
    "splits = {\n",
    "    \"train\": train_filelist,\n",
    "    \"val\": val_filelist,\n",
    "    \"test\": test_filelist\n",
    "}\n",
    "\n",
    "for split_name, filelist in splits.items():\n",
    "    split_dir = os.path.join(dataset_path, split_name)\n",
    "\n",
    "    for img_name, fam_name in filelist:\n",
    "        class_dir = os.path.join(split_dir, fam_name)\n",
    "        os.makedirs(class_dir, exist_ok=True)\n",
    "\n",
    "        src_path = os.path.join(dataset_path, \"images_cropped - Copy\", img_name)\n",
    "        dst_path = os.path.join(class_dir, img_name)\n",
    "\n",
    "        shutil.move(src_path, dst_path)\n"
   ]
  },
  {
   "cell_type": "code",
   "execution_count": null,
   "id": "a393c443",
   "metadata": {},
   "outputs": [],
   "source": []
  }
 ],
 "metadata": {
  "kernelspec": {
   "display_name": "fyp",
   "language": "python",
   "name": "python3"
  },
  "language_info": {
   "codemirror_mode": {
    "name": "ipython",
    "version": 3
   },
   "file_extension": ".py",
   "mimetype": "text/x-python",
   "name": "python",
   "nbconvert_exporter": "python",
   "pygments_lexer": "ipython3",
   "version": "3.12.9"
  }
 },
 "nbformat": 4,
 "nbformat_minor": 5
}
